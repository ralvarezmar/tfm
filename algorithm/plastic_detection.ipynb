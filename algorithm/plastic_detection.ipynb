{
 "cells": [
  {
   "cell_type": "code",
   "execution_count": null,
   "metadata": {},
   "outputs": [],
   "source": [
    "!pip install imageai --upgrade\n",
    "!pip install split-folders\n",
    "\n",
    "import PIL\n",
    "import os\n",
    "# https://github.com/jfilter/split-folders\n",
    "import splitfolders\n",
    "# https://github.com/OlafenwaMoses/ImageAI\n",
    "from imageai.Detection.Custom import DetectionModelTrainer\n",
    "from imageai.Detection.Custom import CustomObjectDetection\n"
   ]
  }
 ],
 "metadata": {
  "kernelspec": {
   "display_name": "Python 3.10.6 64-bit (windows store)",
   "language": "python",
   "name": "python3"
  },
  "language_info": {
   "name": "python",
   "version": "3.10.6"
  },
  "orig_nbformat": 4,
  "vscode": {
   "interpreter": {
    "hash": "0dc3a72e5464cdfe15f93f483ff7c721f2566e6a7ebe2e972209ec9b7e8b4b40"
   }
  }
 },
 "nbformat": 4,
 "nbformat_minor": 2
}
